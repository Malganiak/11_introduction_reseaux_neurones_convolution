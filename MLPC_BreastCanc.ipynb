{
 "cells": [
  {
   "cell_type": "markdown",
   "id": "04e0ed65-dd9d-42f4-9529-39ce6c15b890",
   "metadata": {},
   "source": [
    "### La classification par un perceptron multi-couche sera illustrée dans un Jupyter Notebook sur l'exemple du Breast Cancer Wisconsin (Diagnostic) Dataset. Inspirez-vous de la ligne de code suivante (sklearn) :\n",
    "\n",
    "MLPClassifier(hidden_layer_sizes='à définir', activation='à définir', solver='lbfgs', alpha=0.0001, max_iter=10000, random_state=0, max_fun=15000)"
   ]
  },
  {
   "cell_type": "code",
   "execution_count": 12,
   "id": "fb40cbed-cb80-49c9-b56a-9eb3c1e84250",
   "metadata": {},
   "outputs": [],
   "source": [
    "import pandas as pd\n",
    "import numpy as np\n",
    "import seaborn as sns\n",
    "import matplotlib.pyplot as plt\n",
    "import statsmodels.api as sm\n",
    "import statsmodels.formula.api as smf\n",
    "from sklearn import metrics\n",
    "from sklearn.datasets import load_breast_cancer\n",
    "pd.set_option('display.max_columns', None)"
   ]
  },
  {
   "cell_type": "code",
   "execution_count": 13,
   "id": "d3346d97-341d-4dff-a7e7-3dd3d3f5a22f",
   "metadata": {},
   "outputs": [],
   "source": [
    "X, y = load_breast_cancer(return_X_y=True, as_frame=True)"
   ]
  },
  {
   "cell_type": "code",
   "execution_count": 14,
   "id": "882ffde3",
   "metadata": {},
   "outputs": [
    {
     "name": "stdout",
     "output_type": "stream",
     "text": [
      "(569, 30)\n",
      "(569,)\n"
     ]
    }
   ],
   "source": [
    "print(X.shape)\n",
    "print(y.shape)"
   ]
  },
  {
   "cell_type": "code",
   "execution_count": 15,
   "id": "5221bb90-017c-499a-b0a9-dcaa96da6c08",
   "metadata": {},
   "outputs": [],
   "source": [
    "from sklearn.model_selection import train_test_split\n",
    "X_train, X_test, y_train, y_test = train_test_split(X, y, test_size=0.2, random_state=0, shuffle=True, stratify=y)"
   ]
  },
  {
   "cell_type": "code",
   "execution_count": 16,
   "id": "6547011c-4966-487e-9ac3-cf6ae3f0f8eb",
   "metadata": {},
   "outputs": [
    {
     "name": "stdout",
     "output_type": "stream",
     "text": [
      "(455, 30)\n",
      "(455,)\n",
      "(114, 30)\n",
      "(114,)\n"
     ]
    }
   ],
   "source": [
    "print(X_train.shape)\n",
    "print(y_train.shape)\n",
    "print(X_test.shape)\n",
    "print(y_test.shape)"
   ]
  },
  {
   "cell_type": "code",
   "execution_count": 17,
   "id": "1afffdb5-0989-4650-99cd-605a53ecdd6c",
   "metadata": {},
   "outputs": [
    {
     "data": {
      "text/plain": [
       "array([[ 0.26670379,  0.64119581,  0.21021862, ...,  0.57195757,\n",
       "        -0.36743271, -0.29487344],\n",
       "       [-1.50538429, -0.78076949, -1.4608281 , ..., -0.14909852,\n",
       "         0.04677597,  1.00205472],\n",
       "       [ 1.50388483,  2.19180417,  1.67631803, ...,  1.18936185,\n",
       "        -0.13144928,  0.93430053],\n",
       "       ...,\n",
       "       [-0.30323355,  0.01865526, -0.38082036, ..., -1.55951427,\n",
       "        -0.75688789, -1.18922878],\n",
       "       [-0.07525861, -0.69347598, -0.14238757, ..., -0.89178629,\n",
       "        -0.88395589, -0.72398332],\n",
       "       [-0.63963558, -0.12147379, -0.56963008, ...,  0.59599277,\n",
       "         3.07495497,  3.17583505]])"
      ]
     },
     "execution_count": 17,
     "metadata": {},
     "output_type": "execute_result"
    }
   ],
   "source": [
    "# Standardisation des données - jeu de train\n",
    "from sklearn.preprocessing import StandardScaler\n",
    "sc = StandardScaler()\n",
    "X_train_scld = sc.fit_transform(X_train)\n",
    "X_train_scld\n",
    "# on peut faire un graph avec boxplots pour chaque caractéristique avant/après feature scaling"
   ]
  },
  {
   "cell_type": "code",
   "execution_count": 18,
   "id": "b04bf7bc-4a5d-4eca-9174-e4621d4a4641",
   "metadata": {},
   "outputs": [
    {
     "name": "stdout",
     "output_type": "stream",
     "text": [
      "[(20,), (25,), (30,), (35,), (40,), (20, 20), (25, 25), (30, 30), (35, 35), (40, 40), (20,), (25,), (30,), (35,), (40,), (20, 25), (20, 30), (20, 35), (20, 40), (25, 20), (25, 30), (25, 35), (25, 40), (30, 20), (30, 25), (30, 35), (30, 40), (35, 20), (35, 25), (35, 30), (35, 40), (40, 20), (40, 25), (40, 30), (40, 35)]\n",
      "Meilleurs hyperparamètres: {'activation': 'tanh', 'hidden_layer_sizes': (20, 25)}\n"
     ]
    }
   ],
   "source": [
    "# Recherche des meilleurs hyperparamètres avec GridSearchCV\n",
    "from sklearn.neural_network import MLPClassifier\n",
    "from sklearn.model_selection import GridSearchCV\n",
    "\n",
    "# hidden_layer_sizes: hidden_layer_sizes=(50,) = une couche cachée de 50 neurones; hidden_layer_sizes=(100, 50, 25) = trois couches cachées de tailles 100, 50 et 25\n",
    "# options de combinaisons pour hidden_layer_size\n",
    "nbre_couches = [1, 2]  # Nombre de couches\n",
    "nbre_neurones = [20, 25, 30, 35, 40]  # Nombre de neurones dans chaque couche\n",
    "\n",
    "hidden_layer_size_combi = []\n",
    "for n_couche in nbre_couches:\n",
    "    for n_neurone in nbre_neurones:\n",
    "        hidden_layer_size_combi.append(tuple([n_neurone] * n_couche)) # Génération des combinaisons de tailles de couches cachées\n",
    "# Ajout des permutations de tailles de neurones dans chaque couche\n",
    "import itertools\n",
    "for n_couche in nbre_couches:\n",
    "    for permutation in itertools.permutations(nbre_neurones, n_couche):\n",
    "        hidden_layer_size_combi.append(permutation)\n",
    "print(hidden_layer_size_combi)\n",
    "\n",
    "param_grid = {'hidden_layer_sizes':hidden_layer_size_combi,\n",
    "                    'activation': ['identity', 'logistic', 'tanh', 'relu']}\n",
    "\n",
    "# Créez un modèle MLPClassifier\n",
    "model = MLPClassifier(solver='lbfgs', alpha=0.0001, max_iter=10000, random_state=0, max_fun=15000)\n",
    "\n",
    "# Créez une instance GridSearchCV pour rechercher les meilleurs hyperparamètres\n",
    "# en cherchant à minimiser l'entropie croisée\n",
    "grid_search = GridSearchCV(model, param_grid, scoring='neg_log_loss', cv=3, n_jobs=-1) #possibilité de refit=True, return_train_score=True\n",
    "\n",
    "# Effectuez la recherche sur les hyperparamètres\n",
    "grid_search.fit(X_train_scld, y_train)\n",
    "\n",
    "# Obtenez les meilleurs hyperparamètres\n",
    "best_params = grid_search.best_params_\n",
    "\n",
    "# Affichez les résultats\n",
    "print(\"Meilleurs hyperparamètres:\", best_params)\n",
    "# pd.DataFrame(gridSearchCV.cv_results_)"
   ]
  },
  {
   "cell_type": "code",
   "execution_count": 19,
   "id": "4726c411-ea61-41a5-97ff-7eda7aab4851",
   "metadata": {},
   "outputs": [
    {
     "data": {
      "text/html": [
       "<style>#sk-container-id-1 {color: black;}#sk-container-id-1 pre{padding: 0;}#sk-container-id-1 div.sk-toggleable {background-color: white;}#sk-container-id-1 label.sk-toggleable__label {cursor: pointer;display: block;width: 100%;margin-bottom: 0;padding: 0.3em;box-sizing: border-box;text-align: center;}#sk-container-id-1 label.sk-toggleable__label-arrow:before {content: \"▸\";float: left;margin-right: 0.25em;color: #696969;}#sk-container-id-1 label.sk-toggleable__label-arrow:hover:before {color: black;}#sk-container-id-1 div.sk-estimator:hover label.sk-toggleable__label-arrow:before {color: black;}#sk-container-id-1 div.sk-toggleable__content {max-height: 0;max-width: 0;overflow: hidden;text-align: left;background-color: #f0f8ff;}#sk-container-id-1 div.sk-toggleable__content pre {margin: 0.2em;color: black;border-radius: 0.25em;background-color: #f0f8ff;}#sk-container-id-1 input.sk-toggleable__control:checked~div.sk-toggleable__content {max-height: 200px;max-width: 100%;overflow: auto;}#sk-container-id-1 input.sk-toggleable__control:checked~label.sk-toggleable__label-arrow:before {content: \"▾\";}#sk-container-id-1 div.sk-estimator input.sk-toggleable__control:checked~label.sk-toggleable__label {background-color: #d4ebff;}#sk-container-id-1 div.sk-label input.sk-toggleable__control:checked~label.sk-toggleable__label {background-color: #d4ebff;}#sk-container-id-1 input.sk-hidden--visually {border: 0;clip: rect(1px 1px 1px 1px);clip: rect(1px, 1px, 1px, 1px);height: 1px;margin: -1px;overflow: hidden;padding: 0;position: absolute;width: 1px;}#sk-container-id-1 div.sk-estimator {font-family: monospace;background-color: #f0f8ff;border: 1px dotted black;border-radius: 0.25em;box-sizing: border-box;margin-bottom: 0.5em;}#sk-container-id-1 div.sk-estimator:hover {background-color: #d4ebff;}#sk-container-id-1 div.sk-parallel-item::after {content: \"\";width: 100%;border-bottom: 1px solid gray;flex-grow: 1;}#sk-container-id-1 div.sk-label:hover label.sk-toggleable__label {background-color: #d4ebff;}#sk-container-id-1 div.sk-serial::before {content: \"\";position: absolute;border-left: 1px solid gray;box-sizing: border-box;top: 0;bottom: 0;left: 50%;z-index: 0;}#sk-container-id-1 div.sk-serial {display: flex;flex-direction: column;align-items: center;background-color: white;padding-right: 0.2em;padding-left: 0.2em;position: relative;}#sk-container-id-1 div.sk-item {position: relative;z-index: 1;}#sk-container-id-1 div.sk-parallel {display: flex;align-items: stretch;justify-content: center;background-color: white;position: relative;}#sk-container-id-1 div.sk-item::before, #sk-container-id-1 div.sk-parallel-item::before {content: \"\";position: absolute;border-left: 1px solid gray;box-sizing: border-box;top: 0;bottom: 0;left: 50%;z-index: -1;}#sk-container-id-1 div.sk-parallel-item {display: flex;flex-direction: column;z-index: 1;position: relative;background-color: white;}#sk-container-id-1 div.sk-parallel-item:first-child::after {align-self: flex-end;width: 50%;}#sk-container-id-1 div.sk-parallel-item:last-child::after {align-self: flex-start;width: 50%;}#sk-container-id-1 div.sk-parallel-item:only-child::after {width: 0;}#sk-container-id-1 div.sk-dashed-wrapped {border: 1px dashed gray;margin: 0 0.4em 0.5em 0.4em;box-sizing: border-box;padding-bottom: 0.4em;background-color: white;}#sk-container-id-1 div.sk-label label {font-family: monospace;font-weight: bold;display: inline-block;line-height: 1.2em;}#sk-container-id-1 div.sk-label-container {text-align: center;}#sk-container-id-1 div.sk-container {/* jupyter's `normalize.less` sets `[hidden] { display: none; }` but bootstrap.min.css set `[hidden] { display: none !important; }` so we also need the `!important` here to be able to override the default hidden behavior on the sphinx rendered scikit-learn.org. See: https://github.com/scikit-learn/scikit-learn/issues/21755 */display: inline-block !important;position: relative;}#sk-container-id-1 div.sk-text-repr-fallback {display: none;}</style><div id=\"sk-container-id-1\" class=\"sk-top-container\"><div class=\"sk-text-repr-fallback\"><pre>MLPClassifier(hidden_layer_sizes=(40,), max_iter=10000, random_state=0,\n",
       "              solver=&#x27;lbfgs&#x27;)</pre><b>In a Jupyter environment, please rerun this cell to show the HTML representation or trust the notebook. <br />On GitHub, the HTML representation is unable to render, please try loading this page with nbviewer.org.</b></div><div class=\"sk-container\" hidden><div class=\"sk-item\"><div class=\"sk-estimator sk-toggleable\"><input class=\"sk-toggleable__control sk-hidden--visually\" id=\"sk-estimator-id-1\" type=\"checkbox\" checked><label for=\"sk-estimator-id-1\" class=\"sk-toggleable__label sk-toggleable__label-arrow\">MLPClassifier</label><div class=\"sk-toggleable__content\"><pre>MLPClassifier(hidden_layer_sizes=(40,), max_iter=10000, random_state=0,\n",
       "              solver=&#x27;lbfgs&#x27;)</pre></div></div></div></div></div>"
      ],
      "text/plain": [
       "MLPClassifier(hidden_layer_sizes=(40,), max_iter=10000, random_state=0,\n",
       "              solver='lbfgs')"
      ]
     },
     "execution_count": 19,
     "metadata": {},
     "output_type": "execute_result"
    }
   ],
   "source": [
    "# Entrainement du modèle MLPClassifier avec les meilleurs hyperparamètres\n",
    "model_final = MLPClassifier(hidden_layer_sizes=(40,), activation='relu', solver='lbfgs', alpha=0.0001, max_iter=10000, random_state=0, max_fun=15000)\n",
    "model_final.fit(X_train_scld, y_train)"
   ]
  },
  {
   "cell_type": "code",
   "execution_count": 20,
   "id": "e7d1ba77-88f8-4af8-bae8-8ef8be07a405",
   "metadata": {},
   "outputs": [],
   "source": [
    "# Prédictions - jeu de train\n",
    "ypred_train = model_final.predict(X_train_scld)"
   ]
  },
  {
   "cell_type": "code",
   "execution_count": 21,
   "id": "e3293534-e02d-4c26-92d8-fdc8313630f1",
   "metadata": {},
   "outputs": [
    {
     "name": "stdout",
     "output_type": "stream",
     "text": [
      "Accuracy: 1.0\n",
      "Entropie croisée : 2.220446049250313e-16\n"
     ]
    }
   ],
   "source": [
    "# Performances - jeu de train\n",
    "# Accuracy\n",
    "from sklearn.metrics import accuracy_score, log_loss\n",
    "acc_train = accuracy_score(y_train, ypred_train)\n",
    "print(\"Accuracy:\", acc_train)\n",
    "# Calcul de l'erreur: cross entropy: Log-loss : La log-loss est une métrique qui mesure la performance du modèle en termes de probabilités prédites par rapport aux valeurs réelles.\n",
    "entropy_train = log_loss(y_train, ypred_train)\n",
    "print(\"Entropie croisée :\", entropy_train)"
   ]
  },
  {
   "cell_type": "code",
   "execution_count": null,
   "id": "0456ff46-af1f-4341-9a88-14d841841d85",
   "metadata": {},
   "outputs": [],
   "source": [
    "# Matrice de confusion sur le jeu de train"
   ]
  },
  {
   "cell_type": "code",
   "execution_count": 22,
   "id": "0c7895ca-2bcc-4864-a177-b431dc75efb4",
   "metadata": {},
   "outputs": [],
   "source": [
    "# Standardisation des données - jeu de test\n",
    "X_test_scld = sc.transform(X_test)"
   ]
  },
  {
   "cell_type": "code",
   "execution_count": 23,
   "id": "1b13091e-5afb-482e-bcb0-49fe405d5e4d",
   "metadata": {},
   "outputs": [],
   "source": [
    "# Prédictions - jeu de test\n",
    "ypred_test = model_final.predict(X_test_scld)"
   ]
  },
  {
   "cell_type": "code",
   "execution_count": 24,
   "id": "23f64479-706a-453c-a35c-f495eb88a69f",
   "metadata": {},
   "outputs": [
    {
     "name": "stdout",
     "output_type": "stream",
     "text": [
      "Accuracy: 0.9649122807017544\n",
      "Entropie croisée : 1.2646895926006019\n"
     ]
    }
   ],
   "source": [
    "# Performances - jeu de test\n",
    "# Accuracy\n",
    "acc_test = accuracy_score(y_test, ypred_test)\n",
    "print(\"Accuracy:\", acc_test)\n",
    "# Calcul de la cross entropy: Log-loss : La log-loss est une métrique qui mesure la performance du modèle en termes de probabilités prédites par rapport aux valeurs réelles.\n",
    "entropy_test = log_loss(y_test, ypred_test)\n",
    "print(\"Entropie croisée :\", entropy_test)"
   ]
  },
  {
   "cell_type": "code",
   "execution_count": 25,
   "id": "bb055f59-a0f0-4c5c-b936-c42ba6d938a4",
   "metadata": {},
   "outputs": [
    {
     "data": {
      "text/plain": [
       "0.9722222222222222"
      ]
     },
     "execution_count": 25,
     "metadata": {},
     "output_type": "execute_result"
    }
   ],
   "source": [
    "# Précision (TP/(TP+FP))\n",
    "from sklearn.metrics import precision_score\n",
    "precision = precision_score(y_test, ypred_test)\n",
    "precision"
   ]
  },
  {
   "cell_type": "code",
   "execution_count": 26,
   "id": "28df5034-271c-4511-872f-fab3b6b28036",
   "metadata": {},
   "outputs": [
    {
     "data": {
      "text/plain": [
       "<sklearn.metrics._plot.confusion_matrix.ConfusionMatrixDisplay at 0x1726e06ac10>"
      ]
     },
     "execution_count": 26,
     "metadata": {},
     "output_type": "execute_result"
    },
    {
     "data": {
      "image/png": "[encoded data removed]",
      "text/plain": [
       "<Figure size 640x480 with 2 Axes>"
      ]
     },
     "metadata": {},
     "output_type": "display_data"
    }
   ],
   "source": [
    "# Matrice de confusion\n",
    "from sklearn.metrics import ConfusionMatrixDisplay\n",
    "ConfusionMatrixDisplay.from_predictions(ypred_test, y_test)"
   ]
  },
  {
   "cell_type": "code",
   "execution_count": 28,
   "id": "a37062cb-a8cc-48b5-8e56-627aa2ad42f4",
   "metadata": {},
   "outputs": [
    {
     "name": "stdout",
     "output_type": "stream",
     "text": [
      "Accuracy du MLP: 93.0%\n",
      "\t========= Métriques pour le MLP ============\n",
      "              precision    recall  f1-score   support\n",
      "\n",
      "           0       0.95      0.86      0.90        42\n",
      "           1       0.92      0.97      0.95        72\n",
      "\n",
      "    accuracy                           0.93       114\n",
      "   macro avg       0.93      0.91      0.92       114\n",
      "weighted avg       0.93      0.93      0.93       114\n",
      "\n"
     ]
    }
   ],
   "source": [
    "# Proposition CNAM:\n",
    "mlp = MLPClassifier(hidden_layer_sizes=50, alpha=1e-5, max_iter=1000, solver='adam', random_state=0)\n",
    "mlp.fit(X_train, y_train)\n",
    "print(f\"Accuracy du MLP: {mlp.score(X_test, y_test)*100:.1f}%\")\n",
    "\n",
    "# Comme nous l’avons vu, l”accuracy est une métrique biaisée en faveur de la classe la plus représentée. \n",
    "# À la place, nous pouvons calculer la précision et le rappel pour chaque classe. Dans notre cas, \n",
    "# c’est notamment la précision et le rappel sur la classe 0 (tumeur maligne) qui nous intéresse : \n",
    "# cela nous permettra d’évaluer combien de fausses alarmes ont été produites et combien de tumeur malignes ont été « ratées ».\n",
    "\n",
    "# scikit-learn propose une fonction bien utile permettant de résumer ces métriques de classification :\n",
    "\n",
    "from sklearn.metrics import classification_report\n",
    "\n",
    "print(\"\\t========= Métriques pour le MLP ============\")\n",
    "print(classification_report(y_test, mlp.predict(X_test)))"
   ]
  }
 ],
 "metadata": {
  "kernelspec": {
   "display_name": "Python 3 (ipykernel)",
   "language": "python",
   "name": "python3"
  },
  "language_info": {
   "codemirror_mode": {
    "name": "ipython",
    "version": 3
   },
   "file_extension": ".py",
   "mimetype": "text/x-python",
   "name": "python",
   "nbconvert_exporter": "python",
   "pygments_lexer": "ipython3",
   "version": "3.11.3"
  }
 },
 "nbformat": 4,
 "nbformat_minor": 5
}
